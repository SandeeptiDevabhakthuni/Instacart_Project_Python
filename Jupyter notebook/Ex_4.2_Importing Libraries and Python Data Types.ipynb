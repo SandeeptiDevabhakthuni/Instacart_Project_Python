{
 "cells": [
  {
   "cell_type": "markdown",
   "id": "74e993e7",
   "metadata": {},
   "source": [
    "# 01. Importing Libraries"
   ]
  },
  {
   "cell_type": "code",
   "execution_count": 1,
   "id": "b77c8034",
   "metadata": {},
   "outputs": [],
   "source": [
    "# Import Libraries\n",
    "import pandas as pd\n",
    "import numpy as np\n",
    "import os"
   ]
  },
  {
   "cell_type": "markdown",
   "id": "75e57bae",
   "metadata": {},
   "source": [
    "# 02. Python data types"
   ]
  },
  {
   "cell_type": "code",
   "execution_count": 2,
   "id": "408b3c9a",
   "metadata": {},
   "outputs": [
    {
     "name": "stdout",
     "output_type": "stream",
     "text": [
      "100\n"
     ]
    }
   ],
   "source": [
    "print (90+10)"
   ]
  },
  {
   "cell_type": "markdown",
   "id": "91fbbfca",
   "metadata": {},
   "source": [
    " "
   ]
  },
  {
   "cell_type": "code",
   "execution_count": 3,
   "id": "131ec75c",
   "metadata": {},
   "outputs": [
    {
     "name": "stdout",
     "output_type": "stream",
     "text": [
      "100\n"
     ]
    }
   ],
   "source": [
    "a=50\n",
    "b=50\n",
    "print (a+b)"
   ]
  },
  {
   "cell_type": "code",
   "execution_count": 4,
   "id": "e9b01ab7",
   "metadata": {},
   "outputs": [
    {
     "name": "stdout",
     "output_type": "stream",
     "text": [
      "100\n"
     ]
    }
   ],
   "source": [
    "a=70\n",
    "b=-30\n",
    "print(a-b)"
   ]
  },
  {
   "cell_type": "code",
   "execution_count": 5,
   "id": "468c3dfb",
   "metadata": {},
   "outputs": [
    {
     "name": "stdout",
     "output_type": "stream",
     "text": [
      "100\n"
     ]
    }
   ],
   "source": [
    "a=150\n",
    "b=50\n",
    "print(a-b)"
   ]
  },
  {
   "cell_type": "code",
   "execution_count": 6,
   "id": "b0dd15e2",
   "metadata": {},
   "outputs": [
    {
     "name": "stdout",
     "output_type": "stream",
     "text": [
      "1.0\n"
     ]
    }
   ],
   "source": [
    "print (2.3/2.3)"
   ]
  },
  {
   "cell_type": "code",
   "execution_count": 7,
   "id": "4fed915d",
   "metadata": {},
   "outputs": [
    {
     "name": "stdout",
     "output_type": "stream",
     "text": [
      "0.6716417910447761\n"
     ]
    }
   ],
   "source": [
    "a=4.5\n",
    "b=6.7\n",
    "print(a/b)"
   ]
  },
  {
   "cell_type": "code",
   "execution_count": 10,
   "id": "431b663c",
   "metadata": {},
   "outputs": [
    {
     "name": "stdout",
     "output_type": "stream",
     "text": [
      "string1: Hai\n",
      "string2: Welcome\n",
      "string3: to\n",
      "string4: Career Foundry\n",
      "Concatenated four different strings: HaiWelcometoCareer Foundry\n"
     ]
    }
   ],
   "source": [
    "str1= \"Hai\"\n",
    "str2= \"Welcome\"\n",
    "str3= \"to\"\n",
    "str4= \"Career Foundry\"\n",
    "print(\"string1:\",str1)\n",
    "print(\"string2:\",str2)\n",
    "print(\"string3:\",str3)\n",
    "print(\"string4:\",str4)\n",
    "str=str1+str2+str3+str4\n",
    "print(\"Concatenated four different strings:\",str)"
   ]
  },
  {
   "cell_type": "code",
   "execution_count": 11,
   "id": "2d8e4fe7",
   "metadata": {},
   "outputs": [
    {
     "name": "stdout",
     "output_type": "stream",
     "text": [
      "string1: Important\n",
      "string2: Learning\n",
      "string3: SQL\n",
      "string4: Python\n",
      "Concatenated four different strings: ImportantLearningSQLPython\n"
     ]
    }
   ],
   "source": [
    "str1= \"Important\"\n",
    "str2= \"Learning\"\n",
    "str3= \"SQL\"\n",
    "str4= \"Python\"\n",
    "print(\"string1:\",str1)\n",
    "print(\"string2:\",str2)\n",
    "print(\"string3:\",str3)\n",
    "print(\"string4:\",str4)\n",
    "str=str1+str2+str3+str4\n",
    "print(\"Concatenated four different strings:\",str)"
   ]
  },
  {
   "cell_type": "code",
   "execution_count": 12,
   "id": "4ddfd326",
   "metadata": {},
   "outputs": [
    {
     "name": "stdout",
     "output_type": "stream",
     "text": [
      "string1: W\n",
      "string2: O\n",
      "string3: R\n",
      "string4: D\n",
      "Concatenated four different strings: WORD\n"
     ]
    }
   ],
   "source": [
    "str1= \"W\"\n",
    "str2= \"O\"\n",
    "str3= \"R\"\n",
    "str4= \"D\"\n",
    "print(\"string1:\",str1)\n",
    "print(\"string2:\",str2)\n",
    "print(\"string3:\",str3)\n",
    "print(\"string4:\",str4)\n",
    "str=str1+str2+str3+str4\n",
    "print(\"Concatenated four different strings:\",str)"
   ]
  },
  {
   "cell_type": "code",
   "execution_count": 14,
   "id": "466ed2e3",
   "metadata": {},
   "outputs": [
    {
     "data": {
      "text/plain": [
       "'SandeeptiSandeeptiSandeeptiSandeeptiSandeeptiSandeeptiSandeeptiSandeeptiSandeeptiSandeeptiSandeeptiSandeeptiSandeeptiSandeeptiSandeeptiSandeeptiSandeeptiSandeeptiSandeeptiSandeeptiSandeeptiSandeeptiSandeeptiSandeeptiSandeeptiSandeeptiSandeeptiSandeeptiSandeeptiSandeeptiSandeeptiSandeeptiSandeeptiSandeeptiSandeeptiSandeeptiSandeeptiSandeeptiSandeeptiSandeeptiSandeeptiSandeeptiSandeeptiSandeeptiSandeeptiSandeeptiSandeeptiSandeeptiSandeeptiSandeeptiSandeeptiSandeeptiSandeeptiSandeeptiSandeeptiSandeeptiSandeeptiSandeeptiSandeeptiSandeeptiSandeeptiSandeeptiSandeeptiSandeeptiSandeeptiSandeeptiSandeeptiSandeeptiSandeeptiSandeeptiSandeeptiSandeeptiSandeeptiSandeeptiSandeeptiSandeeptiSandeeptiSandeeptiSandeeptiSandeeptiSandeeptiSandeeptiSandeeptiSandeeptiSandeeptiSandeeptiSandeeptiSandeeptiSandeeptiSandeeptiSandeeptiSandeeptiSandeeptiSandeeptiSandeeptiSandeeptiSandeeptiSandeeptiSandeeptiSandeepti'"
      ]
     },
     "execution_count": 14,
     "metadata": {},
     "output_type": "execute_result"
    }
   ],
   "source": [
    "def hundred_word(a):\n",
    "    return a*100\n",
    "hundred_word('Sandeepti')"
   ]
  },
  {
   "cell_type": "code",
   "execution_count": null,
   "id": "105477bc",
   "metadata": {},
   "outputs": [],
   "source": []
  },
  {
   "cell_type": "code",
   "execution_count": null,
   "id": "c635acae",
   "metadata": {},
   "outputs": [],
   "source": []
  },
  {
   "cell_type": "code",
   "execution_count": null,
   "id": "3e44aaa1",
   "metadata": {},
   "outputs": [],
   "source": []
  },
  {
   "cell_type": "code",
   "execution_count": null,
   "id": "5990ccf1",
   "metadata": {},
   "outputs": [],
   "source": []
  },
  {
   "cell_type": "code",
   "execution_count": null,
   "id": "9d467492",
   "metadata": {},
   "outputs": [],
   "source": []
  },
  {
   "cell_type": "code",
   "execution_count": null,
   "id": "a5878689",
   "metadata": {},
   "outputs": [],
   "source": []
  },
  {
   "cell_type": "code",
   "execution_count": null,
   "id": "09fe82d9",
   "metadata": {},
   "outputs": [],
   "source": []
  },
  {
   "cell_type": "code",
   "execution_count": null,
   "id": "afd39085",
   "metadata": {},
   "outputs": [],
   "source": []
  },
  {
   "cell_type": "code",
   "execution_count": null,
   "id": "eb7cd7a2",
   "metadata": {},
   "outputs": [],
   "source": []
  },
  {
   "cell_type": "code",
   "execution_count": null,
   "id": "04c8a90a",
   "metadata": {},
   "outputs": [],
   "source": []
  },
  {
   "cell_type": "code",
   "execution_count": null,
   "id": "662ddb7e",
   "metadata": {},
   "outputs": [],
   "source": []
  },
  {
   "cell_type": "code",
   "execution_count": null,
   "id": "435d7188",
   "metadata": {},
   "outputs": [],
   "source": []
  },
  {
   "cell_type": "code",
   "execution_count": null,
   "id": "5e367d1d",
   "metadata": {},
   "outputs": [],
   "source": []
  },
  {
   "cell_type": "code",
   "execution_count": null,
   "id": "af67afcc",
   "metadata": {},
   "outputs": [],
   "source": []
  },
  {
   "cell_type": "markdown",
   "id": "3655d8dc",
   "metadata": {},
   "source": []
  }
 ],
 "metadata": {
  "kernelspec": {
   "display_name": "Python 3 (ipykernel)",
   "language": "python",
   "name": "python3"
  },
  "language_info": {
   "codemirror_mode": {
    "name": "ipython",
    "version": 3
   },
   "file_extension": ".py",
   "mimetype": "text/x-python",
   "name": "python",
   "nbconvert_exporter": "python",
   "pygments_lexer": "ipython3",
   "version": "3.11.4"
  }
 },
 "nbformat": 4,
 "nbformat_minor": 5
}
